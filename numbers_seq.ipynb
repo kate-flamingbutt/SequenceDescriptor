{
  "nbformat": 4,
  "nbformat_minor": 0,
  "metadata": {
    "colab": {
      "name": "numbers_seq.ipynb",
      "version": "0.3.2",
      "provenance": [],
      "collapsed_sections": [],
      "include_colab_link": true
    },
    "kernelspec": {
      "name": "python3",
      "display_name": "Python 3"
    }
  },
  "cells": [
    {
      "cell_type": "markdown",
      "metadata": {
        "id": "view-in-github",
        "colab_type": "text"
      },
      "source": [
        "<a href=\"https://colab.research.google.com/github/kate-flamingbutt/SequenceDescriptor/blob/master/numbers_seq.ipynb\" target=\"_parent\"><img src=\"https://colab.research.google.com/assets/colab-badge.svg\" alt=\"Open In Colab\"/></a>"
      ]
    },
    {
      "cell_type": "code",
      "metadata": {
        "id": "0NHuGPfxyjvt",
        "colab_type": "code",
        "colab": {}
      },
      "source": [
        "class Sequence:\n",
        "  def __init__(self, seed):\n",
        "    self.seed = seed\n",
        "  \n",
        "  def next_seq(self, seq):\n",
        "    #print(seq)\n",
        "    counter = 0\n",
        "    ptr = 0\n",
        "    result = []\n",
        "    for i in range(len(seq)):\n",
        "    #  print('here')\n",
        "      if (seq[i] == seq[ptr]):\n",
        "     #   print('there')\n",
        "        counter += 1\n",
        "      else:\n",
        "     #   print('righto')\n",
        "       # print(counter, seq[ptr])\n",
        "        result.extend([counter, seq[ptr]])\n",
        "      #  print(result)\n",
        "        ptr = i\n",
        "        counter = 1\n",
        "    result.extend([counter, seq[ptr]])\n",
        "    return result\n",
        "  \n",
        "  def new_sequence(self): \n",
        "    seq = self.seed\n",
        "    while True:\n",
        "      yield seq\n",
        "      seq = self.next_seq(seq)\n",
        "      \n",
        "    "
      ],
      "execution_count": 0,
      "outputs": []
    },
    {
      "cell_type": "code",
      "metadata": {
        "id": "Km22THqm075q",
        "colab_type": "code",
        "colab": {
          "base_uri": "https://localhost:8080/",
          "height": 190
        },
        "outputId": "078f8b02-a729-4307-d55f-820716757fad"
      },
      "source": [
        "c = Sequence([5, 5, 5, 5, 5])\n",
        "#print(c.next_seq([1]))\n",
        "seq = c.new_sequence()\n",
        "for i in range(10):\n",
        "  print(next(seq))"
      ],
      "execution_count": 103,
      "outputs": [
        {
          "output_type": "stream",
          "text": [
            "[5, 5, 5, 5, 5]\n",
            "[5, 5]\n",
            "[2, 5]\n",
            "[1, 2, 1, 5]\n",
            "[1, 1, 1, 2, 1, 1, 1, 5]\n",
            "[3, 1, 1, 2, 3, 1, 1, 5]\n",
            "[1, 3, 2, 1, 1, 2, 1, 3, 2, 1, 1, 5]\n",
            "[1, 1, 1, 3, 1, 2, 2, 1, 1, 2, 1, 1, 1, 3, 1, 2, 2, 1, 1, 5]\n",
            "[3, 1, 1, 3, 1, 1, 2, 2, 2, 1, 1, 2, 3, 1, 1, 3, 1, 1, 2, 2, 2, 1, 1, 5]\n",
            "[1, 3, 2, 1, 1, 3, 2, 1, 3, 2, 2, 1, 1, 2, 1, 3, 2, 1, 1, 3, 2, 1, 3, 2, 2, 1, 1, 5]\n"
          ],
          "name": "stdout"
        }
      ]
    },
    {
      "cell_type": "code",
      "metadata": {
        "id": "mHM1viMr-m0-",
        "colab_type": "code",
        "colab": {}
      },
      "source": [
        "from PIL import Image, ImageDraw\n",
        "\n",
        "class Line:\n",
        "  def __init__(self, drawer, number, seq):\n",
        "    self.seq = seq\n",
        "    self.drawer = drawer\n",
        "    self.number = number\n",
        "    \n",
        "  def draw(self): # drawer ~ imageDraw.draw\n",
        "    width = 300.0 / float(len(seq))\n",
        "    height = 10 #for ex\n",
        "    color_quant = 255 / max(seq)\n",
        "    for i in range(len(seq)):\n",
        "      dec_comp = int(color_quant * seq[i])\n",
        "      hex_comp = str(hex(int(color_quant * seq[i])))[2:]\n",
        "      clr = \"#\" + hex_comp + hex_comp + hex_comp\n",
        "    #  print(clr)\n",
        "      drawer.rectangle([(width * i, self.number * 10), (width * (i+1), (self.number + 1) * 10)], fill = (dec_comp, 255 - dec_comp, int((255+dec_comp)/2)))\n",
        "    \n",
        "    \n",
        "    \n",
        "  "
      ],
      "execution_count": 0,
      "outputs": []
    },
    {
      "cell_type": "code",
      "metadata": {
        "id": "sZ6CGa9eBwbn",
        "colab_type": "code",
        "colab": {}
      },
      "source": [
        "img = Image.new('RGBA', (300, 300))\n",
        "\n",
        "\n",
        "drawer = ImageDraw.Draw(img)\n",
        "s = Sequence([5,5,5,5,5,5])\n",
        "seq_gen = s.new_sequence()\n",
        "for i in range(30):\n",
        "  seq = next(seq_gen)\n",
        "  #print(len(s))\n",
        "  l = Line(drawer, i, seq)\n",
        "  l.draw()\n",
        "\n",
        "for i in range(100):\n",
        "  img.show() #ain't working in notebook\n",
        "img.save('test'.png', 'PNG')\n",
        "\n",
        "\n",
        "  "
      ],
      "execution_count": 0,
      "outputs": []
    }
  ]
}