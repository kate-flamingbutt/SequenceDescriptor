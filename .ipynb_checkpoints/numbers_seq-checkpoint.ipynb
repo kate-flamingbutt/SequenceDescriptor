{
 "cells": [
  {
   "cell_type": "markdown",
   "metadata": {
    "colab_type": "text",
    "id": "view-in-github"
   },
   "source": [
    "<a href=\"https://colab.research.google.com/github/kate-flamingbutt/SequenceDescriptor/blob/master/numbers_seq.ipynb\" target=\"_parent\"><img src=\"https://colab.research.google.com/assets/colab-badge.svg\" alt=\"Open In Colab\"/></a>"
   ]
  },
  {
   "cell_type": "markdown",
   "metadata": {
    "colab_type": "text",
    "id": "bZJliGCHTyx1"
   },
   "source": [
    "Let's define sequences:\n",
    "\n",
    "1\n",
    "\n",
    "1 1\n",
    "\n",
    "2 1\n",
    "\n",
    "etc."
   ]
  },
  {
   "cell_type": "code",
   "execution_count": 1,
   "metadata": {
    "colab": {},
    "colab_type": "code",
    "id": "0NHuGPfxyjvt"
   },
   "outputs": [],
   "source": [
    "class Sequence:\n",
    "  def __init__(self, seed):\n",
    "    self.seed = seed\n",
    "  \n",
    "  def next_seq(self, seq):\n",
    "    #print(seq)\n",
    "    counter = 0\n",
    "    ptr = 0\n",
    "    result = []\n",
    "    for i in range(len(seq)):\n",
    "\n",
    "      if (seq[i] == seq[ptr]):\n",
    "\n",
    "        counter += 1\n",
    "      else:\n",
    "\n",
    "        result.extend([counter, seq[ptr]])\n",
    "\n",
    "        ptr = i\n",
    "        counter = 1\n",
    "    result.extend([counter, seq[ptr]])\n",
    "    return result\n",
    "  \n",
    "  def new_sequence(self): \n",
    "    seq = self.seed\n",
    "    while True:\n",
    "      yield seq\n",
    "      seq = self.next_seq(seq)\n",
    "      \n",
    "    "
   ]
  },
  {
   "cell_type": "markdown",
   "metadata": {
    "colab_type": "text",
    "id": "w9kdu8lqUAw6"
   },
   "source": [
    "Next let's visualize them. (Color scheme is like out of blue; almost literally.)"
   ]
  },
  {
   "cell_type": "code",
   "execution_count": 2,
   "metadata": {
    "colab": {},
    "colab_type": "code",
    "id": "mHM1viMr-m0-"
   },
   "outputs": [],
   "source": [
    "from PIL import Image, ImageDraw\n",
    "\n",
    "class Line:\n",
    "  def __init__(self, drawer, number, seq):\n",
    "    self.seq = seq\n",
    "    self.drawer = drawer\n",
    "    self.number = number\n",
    "    \n",
    "  def draw(self): # drawer ~ imageDraw.draw\n",
    "    width = 300.0 / float(len(seq))\n",
    "    height = 10 #for ex\n",
    "    color_quant = 255 / (max(seq)+1)\n",
    "    for i in range(len(seq)):\n",
    "      dec_comp = int(color_quant * seq[i])\n",
    "      hex_comp = str(hex(int(color_quant * seq[i])))[2:]\n",
    "      clr = \"#\" + hex_comp + hex_comp + hex_comp\n",
    "    #  print(clr)\n",
    "      drawer.rectangle([(width * i, self.number * 10), (width * (i+1), (self.number + 1) * 10)], fill = (dec_comp, 255 - dec_comp, int((255+dec_comp)/2)))\n",
    "    \n",
    "    \n",
    "    \n",
    "  "
   ]
  },
  {
   "cell_type": "code",
   "execution_count": 11,
   "metadata": {
    "colab": {
     "base_uri": "https://localhost:8080/",
     "height": 52
    },
    "colab_type": "code",
    "id": "sZ6CGa9eBwbn",
    "outputId": "fa758aa3-cc94-4a21-8493-7f3cbd29b5aa"
   },
   "outputs": [
    {
     "name": "stdout",
     "output_type": "stream",
     "text": [
      "Input the seed:\n",
      "1 1 1 1 1 1 1 1 1 1 1 1 1 1 1 1\n"
     ]
    }
   ],
   "source": [
    "print('Input the seed:')\n",
    "\n",
    "name = input()\n",
    "seed =[int(i) for i in name.split(' ')]\n",
    "\n",
    "img = Image.new('RGBA', (300, 300))\n",
    "\n",
    "drawer = ImageDraw.Draw(img)\n",
    "s = Sequence(seed)\n",
    "seq_gen = s.new_sequence()\n",
    "for i in range(30):\n",
    "  seq = next(seq_gen)\n",
    "  #print(len(s))\n",
    "  l = Line(drawer, i, seq)\n",
    "  l.draw()\n",
    "\n",
    "img.show()\n",
    "img.save(name+'.png', 'PNG')\n",
    "\n",
    "\n",
    "  "
   ]
  },
  {
   "cell_type": "code",
   "execution_count": null,
   "metadata": {},
   "outputs": [],
   "source": []
  }
 ],
 "metadata": {
  "colab": {
   "collapsed_sections": [],
   "include_colab_link": true,
   "name": "numbers_seq",
   "provenance": [],
   "version": "0.3.2"
  },
  "kernelspec": {
   "display_name": "Python 3",
   "language": "python",
   "name": "python3"
  },
  "language_info": {
   "codemirror_mode": {
    "name": "ipython",
    "version": 3
   },
   "file_extension": ".py",
   "mimetype": "text/x-python",
   "name": "python",
   "nbconvert_exporter": "python",
   "pygments_lexer": "ipython3",
   "version": "3.7.3"
  }
 },
 "nbformat": 4,
 "nbformat_minor": 1
}
